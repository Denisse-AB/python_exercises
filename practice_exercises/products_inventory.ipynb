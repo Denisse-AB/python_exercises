{
 "cells": [
  {
   "cell_type": "code",
   "execution_count": 2,
   "metadata": {},
   "outputs": [],
   "source": [
    "from IPython.display import HTML, display\n"
   ]
  },
  {
   "cell_type": "code",
   "execution_count": 3,
   "metadata": {},
   "outputs": [],
   "source": [
    "# Create an application which manages an inventory of products. \n",
    "# Create a product class which has a price, id, and quantity on hand. \n",
    "# Then create an inventory class which keeps track of various products and can sum up the inventory value.\n",
    "product_list = []\n",
    "\n",
    "class Products:\n",
    "\n",
    "  def __init__(self, name, product_id, price, qty):\n",
    "      self.name = name\n",
    "      self.id = product_id\n",
    "      self.price = price\n",
    "      self.qty = qty\n",
    "      product_list.append([self.name, self.id, self.price, self.qty])\n",
    "  \n",
    "\n",
    "  def __str__(self):\n",
    "      return 'Product name: ' + str(self.name)\n"
   ]
  },
  {
   "cell_type": "code",
   "execution_count": 4,
   "metadata": {},
   "outputs": [],
   "source": [
    "# create an inventory class which keeps track of various products\n",
    "class Inventory:\n",
    "  \n",
    "  def __init__(self):\n",
    "    self.inventory = []\n",
    "    for i in range(len(product_list)):\n",
    "      self.inventory.append(product_list[i][3])\n",
    "\n",
    "  def __str__(self):\n",
    "    return f'Inventory list = {self.inventory}'\n",
    "\n",
    "  # sum up the inventory value.\n",
    "  def total(self):\n",
    "    return f'total Products = {sum(self.inventory)}'\n",
    "\n",
    "  # Find product qty by name\n",
    "  def find_product_qty(mylist, product):\n",
    "    for sub_list in mylist:\n",
    "        if product in sub_list:\n",
    "            i = mylist.index(sub_list)\n",
    "            quantity = product_list[i][3]\n",
    "            return quantity\n",
    "    return 'Product not Found.'\n",
    "\n",
    "  # Increase product qty\n",
    "  def increase_product_qty(mylist, product, new_qty):\n",
    "    i = find_product(mylist, product)\n",
    "    if i == 'None':\n",
    "      return 'Item not found!'\n",
    "    else:\n",
    "      product_list[i][3] += new_qty\n",
    "      return product_list\n",
    "\n",
    "  # Decrease qty\n",
    "  def decrease_product_qty(mylist, product, new_qty):\n",
    "    i = find_product(mylist, product)\n",
    "    if i == 'None':\n",
    "      return 'Item not found!'\n",
    "    else:\n",
    "      product_list[i][3] -= new_qty\n",
    "      return product_list\n"
   ]
  },
  {
   "cell_type": "code",
   "execution_count": 5,
   "metadata": {},
   "outputs": [],
   "source": [
    "# list of products\n",
    "product_1 = Products('Apple', 1, 11.99, 10)\n",
    "product_2 = Products('Banana', 2, 12.99, 5)\n",
    "product_3 = Products('Pear', 3, 13.99, 7)\n",
    "product_4 = Products('Orange', 4, 14.99, 100)\n",
    "product_5 = Products('Grapes', 5, 15.99, 1)"
   ]
  },
  {
   "cell_type": "code",
   "execution_count": 6,
   "metadata": {},
   "outputs": [],
   "source": [
    "def find_product(mylist, product):\n",
    "    for sub_list in mylist:\n",
    "        if product in sub_list:\n",
    "            i = mylist.index(sub_list)\n",
    "            return i\n",
    "    return 'None'"
   ]
  },
  {
   "cell_type": "code",
   "execution_count": 7,
   "metadata": {},
   "outputs": [
    {
     "data": {
      "text/plain": [
       "5"
      ]
     },
     "execution_count": 7,
     "metadata": {},
     "output_type": "execute_result"
    }
   ],
   "source": [
    "product_2.qty"
   ]
  },
  {
   "cell_type": "code",
   "execution_count": 8,
   "metadata": {},
   "outputs": [
    {
     "name": "stdout",
     "output_type": "stream",
     "text": [
      "Product name: Pear\n"
     ]
    }
   ],
   "source": [
    "print(product_3)"
   ]
  },
  {
   "cell_type": "code",
   "execution_count": 9,
   "metadata": {},
   "outputs": [
    {
     "data": {
      "text/plain": [
       "[['Apple', 1, 11.99, 10],\n",
       " ['Banana', 2, 12.99, 5],\n",
       " ['Pear', 3, 13.99, 7],\n",
       " ['Orange', 4, 14.99, 100],\n",
       " ['Grapes', 5, 15.99, 1]]"
      ]
     },
     "execution_count": 9,
     "metadata": {},
     "output_type": "execute_result"
    }
   ],
   "source": [
    "product_list"
   ]
  },
  {
   "cell_type": "code",
   "execution_count": 10,
   "metadata": {},
   "outputs": [
    {
     "name": "stdout",
     "output_type": "stream",
     "text": [
      "Inventory list = [10, 5, 7, 100, 1]\n"
     ]
    }
   ],
   "source": [
    "print(Inventory())"
   ]
  },
  {
   "cell_type": "code",
   "execution_count": 11,
   "metadata": {},
   "outputs": [
    {
     "data": {
      "text/plain": [
       "'total Products = 123'"
      ]
     },
     "execution_count": 11,
     "metadata": {},
     "output_type": "execute_result"
    }
   ],
   "source": [
    "Inventory().total()"
   ]
  },
  {
   "cell_type": "code",
   "execution_count": 12,
   "metadata": {},
   "outputs": [
    {
     "data": {
      "text/plain": [
       "'Item not found!'"
      ]
     },
     "execution_count": 12,
     "metadata": {},
     "output_type": "execute_result"
    }
   ],
   "source": [
    "# Example of product not in list\n",
    "Inventory.increase_product_qty(product_list, 'Kiwi', new_qty=1)\n"
   ]
  },
  {
   "cell_type": "code",
   "execution_count": 13,
   "metadata": {},
   "outputs": [
    {
     "data": {
      "text/plain": [
       "10"
      ]
     },
     "execution_count": 13,
     "metadata": {},
     "output_type": "execute_result"
    }
   ],
   "source": [
    "Inventory.find_product_qty(product_list, 'Apple')"
   ]
  },
  {
   "cell_type": "code",
   "execution_count": 14,
   "metadata": {},
   "outputs": [
    {
     "data": {
      "text/plain": [
       "[['Apple', 1, 11.99, 10],\n",
       " ['Banana', 2, 12.99, 4],\n",
       " ['Pear', 3, 13.99, 7],\n",
       " ['Orange', 4, 14.99, 100],\n",
       " ['Grapes', 5, 15.99, 1]]"
      ]
     },
     "execution_count": 14,
     "metadata": {},
     "output_type": "execute_result"
    }
   ],
   "source": [
    "Inventory.decrease_product_qty(product_list, 'Banana', new_qty=1)\n"
   ]
  },
  {
   "cell_type": "code",
   "execution_count": 15,
   "metadata": {},
   "outputs": [],
   "source": [
    "def display_table(data):\n",
    "    html = \"<table>\"\n",
    "    html += \"<td><h4>Product</h4></td>\"\n",
    "    html += \"<td><h4>Id</h4></td>\"\n",
    "    html += \"<td><h4>Price</h4></td>\"\n",
    "    html += \"<td><h4>Quantity</h4></td>\"\n",
    "    for row in data:\n",
    "        html += \"<tr>\"\n",
    "        for field in row:\n",
    "            html += \"<td><h4>%s</h4></td>\" % (field)\n",
    "        html += \"</tr>\"\n",
    "    html += \"</table>\"\n",
    "    display(HTML(html))\n"
   ]
  },
  {
   "cell_type": "code",
   "execution_count": 16,
   "metadata": {},
   "outputs": [
    {
     "data": {
      "text/html": [
       "<table><td><h4>Product</h4></td><td><h4>Id</h4></td><td><h4>Price</h4></td><td><h4>Quantity</h4></td><tr><td><h4>Apple</h4></td><td><h4>1</h4></td><td><h4>11.99</h4></td><td><h4>10</h4></td></tr><tr><td><h4>Banana</h4></td><td><h4>2</h4></td><td><h4>12.99</h4></td><td><h4>4</h4></td></tr><tr><td><h4>Pear</h4></td><td><h4>3</h4></td><td><h4>13.99</h4></td><td><h4>7</h4></td></tr><tr><td><h4>Orange</h4></td><td><h4>4</h4></td><td><h4>14.99</h4></td><td><h4>100</h4></td></tr><tr><td><h4>Grapes</h4></td><td><h4>5</h4></td><td><h4>15.99</h4></td><td><h4>1</h4></td></tr></table>"
      ],
      "text/plain": [
       "<IPython.core.display.HTML object>"
      ]
     },
     "metadata": {},
     "output_type": "display_data"
    }
   ],
   "source": [
    "display_table(product_list)\n"
   ]
  }
 ],
 "metadata": {
  "interpreter": {
   "hash": "63fd5069d213b44bf678585dea6b12cceca9941eaf7f819626cde1f2670de90d"
  },
  "kernelspec": {
   "display_name": "Python 3.9.4 64-bit",
   "name": "python3"
  },
  "language_info": {
   "codemirror_mode": {
    "name": "ipython",
    "version": 3
   },
   "file_extension": ".py",
   "mimetype": "text/x-python",
   "name": "python",
   "nbconvert_exporter": "python",
   "pygments_lexer": "ipython3",
   "version": "3.10.1"
  },
  "orig_nbformat": 4
 },
 "nbformat": 4,
 "nbformat_minor": 2
}
