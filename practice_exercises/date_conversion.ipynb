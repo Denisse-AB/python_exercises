{
 "cells": [
  {
   "cell_type": "code",
   "execution_count": 12,
   "metadata": {},
   "outputs": [],
   "source": [
    "'''\n",
    "Convert date format from March 20, 2021 to 3/20/2021\n",
    "'''\n",
    "\n",
    "date = input('Input date like this: January 9, 2022')\n",
    "\n",
    "months = ['Jan', 'Feb', 'Mar', 'Apr', 'May', 'Jun', 'Jul',\n",
    "          'Aug', 'Sep', 'Oct', 'Nov', 'Dec']"
   ]
  },
  {
   "cell_type": "code",
   "execution_count": 13,
   "metadata": {},
   "outputs": [],
   "source": [
    "def num_date_conv(date):\n",
    "    if len(date) == 9:\n",
    "        return (date[2:4]) + '/' + date[:1] + '/' + date[-4:]\n",
    "    else:\n",
    "        return date[3:5] + '/' + date[:2] + '/' + date[-4:]\n",
    "\n",
    "def str_conv(date):\n",
    "    d = date[-8:-6]\n",
    "    month = months.index(date[:3].capitalize())\n",
    "    m = month + 1\n",
    "    year = date[-4:]\n",
    "    return str(m) + '/' + d + '/' + year"
   ]
  },
  {
   "cell_type": "code",
   "execution_count": 14,
   "metadata": {},
   "outputs": [
    {
     "name": "stdout",
     "output_type": "stream",
     "text": [
      "3/ch/2222\n"
     ]
    }
   ],
   "source": [
    "if len(date) <= 10:\n",
    "    print(num_date_conv(date))\n",
    "else:\n",
    "    print(str_conv(date))"
   ]
  },
  {
   "cell_type": "code",
   "execution_count": null,
   "metadata": {},
   "outputs": [],
   "source": []
  }
 ],
 "metadata": {
  "interpreter": {
   "hash": "2be5faf79681da6f2a61fdfdd5405d65d042280f7fba6178067603e3a2925119"
  },
  "kernelspec": {
   "display_name": "Python 3.10.1 64-bit",
   "language": "python",
   "name": "python3"
  },
  "language_info": {
   "codemirror_mode": {
    "name": "ipython",
    "version": 3
   },
   "file_extension": ".py",
   "mimetype": "text/x-python",
   "name": "python",
   "nbconvert_exporter": "python",
   "pygments_lexer": "ipython3",
   "version": "3.10.1"
  },
  "orig_nbformat": 4
 },
 "nbformat": 4,
 "nbformat_minor": 2
}
